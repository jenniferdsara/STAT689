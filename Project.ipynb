{
 "cells": [
  {
   "cell_type": "markdown",
   "metadata": {},
   "source": [
    "## Least Squares Support Vector Regression in R: Investigating outlier-sensitivity in Machine Learning Models\n",
    "##  Jennifer Dargin and Huan Luo"
   ]
  },
  {
   "cell_type": "markdown",
   "metadata": {},
   "source": [
    "## 1. Motivation"
   ]
  },
  {
   "cell_type": "markdown",
   "metadata": {},
   "source": [
    "In class, we learned that the least squares (LS) based regression model (e.g., ridge regression) is sensitive to datasets contaminated with outliers, which can lead to biased predictions of the fitted regression model. Machine learning (ML) techniques, as advanced statistical learning methods, have achieved great success in many disciplinaries. The purpose of this project is to determine whether or not the fit of ML methods, particularly an LS-based method, will be affected by the presence of outliers in a dataset. If so, to what extent will they be negatively affected compared to ridge regression? In this project, we would like to investigate how outliers affect the LS based ML models, explore the levels of negative interferences affected by outliers between LS based ML models and ridge regression, and validate the performance of existing solutions to reduce the negative affect of outliers for LS based ML techniques and ridge regression. Specifically, the main contributions in this project is organized as following:\n",
    "\n",
    "1. We investigated a well-known LS based ML method, called least squares support vector regression (LS-SVR), which was originally developed by Suykens et al. (2002). The prediction performance between LS-SVR and ridge regression for a simulated dataset excluding the outliers is first compared to illustrate their original prediction capabilities (i.e., prediction is not negatively affected by outliers).\n",
    "\n",
    "2. We randomly added the outliers to the simulated dataset. The size of outliers we added is equal to 10 percent of the total number of the simulated dataset. Then we re-fited these two models to the simulated dataset contaminated by the outliers, and the prediction performance of these two models for the contaminated dataset is compared as well as the comparision with those on the simulated dataset excluding outliers. Through this comparison, the levels of negative interferences affected by outliers between LS-SVR and ridge regression can be identified.\n",
    "\n",
    "3. Two existing solutions to reduce the negative affect of outliers for LS-SVR and ridge regression were studied. The one for LS-SVR is called weighted LS-SVR, which is originally developed by Suykens et al. (2002), and another for ridge regression is called weighted LS, which is a well-known approach. The prediction performance of these two weighted models for the contaminated simulated dataset is compared and the performance comparison between these weighted and unweighted models is also conducted such that the effectiveness of these two existing solutions can be validated.\n",
    "\n",
    "4. All of the codes regarding the developments of LS-SVR, ridge regression, weighted LS-SVR, and weighted ridge regression are developed from scratch using R programming language by the authors. No packages were used in this project. The detailed programming procedures are also presented."
   ]
  },
  {
   "cell_type": "markdown",
   "metadata": {},
   "source": [
    "## 2. Theory of LS-SVR and Ridge Regression"
   ]
  },
  {
   "cell_type": "markdown",
   "metadata": {},
   "source": [
    "## 2.1 Theory of LS-SVR\n",
    "\n",
    "The detailed information about the formulation of LS-SVR can be found in Suykens et al. (2002). Here, we briefly summarize the formulation and present the mathmatical equations necessary for the code developement, which can be found as follows.\n",
    "\n",
    "Given the training set $\\{(x_i,y_i)\\}_{i=1}^n$, where $x_i \\in R^{p}$ and $y_i \\in R$, the objective of the LS-SVR is to find $w \\in R^{h}$ and $b$ to minimize the following objective function:\n",
    "\n",
    "\\begin{align*}\n",
    "min J(w,e) = \\frac{1}{2}w^Tw + \\frac{1}{2}\\gamma\\sum_{i=1}^ne_{i}^2                        \n",
    "\\end{align*}           \n",
    "\n",
    "\n",
    "subject to:\n",
    "\n",
    "$$y_i = w^T\\varphi(x_i) + b + e_i, i = 1,...,n$$\n",
    "\n",
    "Where $\\varphi(\\centerdot): R^p \\rightarrow R^h$ is a function which maps the input space to a higher dimensional feature space; $e_i \\in R$ is error variable; $\\gamma \\in R$ is regularization parameter; $b$ is bias term.  \n",
    "\n",
    "The Lagrangian function for the equations above can be established as follows:\n",
    "\n",
    "$$L(w,b,e;\\alpha) = J(w,e) - \\sum_{i=1}^n\\alpha_i\\{w^T\\varphi(x_i)+b+e_i-y_i\\}$$\n",
    "\n",
    "Where $\\alpha_i \\in R$ (also called support values) is Lagrange multiplier. The Karush-Kuhn-Tucker(KKT) conditions for optimality are given by:\n",
    "\n",
    "\\begin{align*}\n",
    "&\\frac{\\partial L}{\\partial w}=0 \\rightarrow w = \\sum_{i=1}^n\\alpha_i\\varphi(x_i)\\\\\n",
    "&\\frac{\\partial L}{\\partial b}=0 \\rightarrow \\sum_{i=1}^n\\alpha_i=0\\\\\n",
    "&\\frac{\\partial L}{\\partial e_i}=0 \\rightarrow \\alpha_i = \\gamma e_i, i = 1,...,n\\\\\n",
    "&\\frac{\\partial L}{\\partial \\alpha_i}=0 \\rightarrow w^T\\varphi(x_i)+b+e_i-y_i=0, i = 1,...,n\n",
    "\\end{align*}\n",
    "\n",
    "After elimination of $w,e$, one can obtain the following matrix equation:\n",
    "\n",
    "\\begin{equation}\n",
    "\\left[\n",
    "\\begin{array}{cccc}\n",
    "0 & 1_{1xn}\\\\\n",
    "1_{nx1} & K_{nxn}+\\frac{1}{\\gamma}I_{nxn}\n",
    "\\end{array}\n",
    "\\right]\n",
    "\\left[\n",
    "\\begin{array}{cccc}\n",
    "b\\\\\n",
    "\\alpha_{nx1}\n",
    "\\end{array}\n",
    "\\right]\n",
    "=\n",
    "\\left[\n",
    "\\begin{array}{cccc}\n",
    "0\\\\\n",
    "y_{nx1}\n",
    "\\end{array}\n",
    "\\right ]\n",
    "\\end{equation}\n",
    "\n",
    "Where $K_{nxn}(x_i,x_j)=\\varphi(x_i)^T \\varphi(x_j), i,j=1,...,n$ is a kernel function that meets the Mercer's condition.\n",
    "\n",
    "After solving $\\alpha_{nx1}$ and $b$, the resulting LS-SVR model for prediction can be obtained as follows:\n",
    "\n",
    "$$ y(x) = \\sum_{i=1}^n \\alpha_iK(x,x_i)+b$$\n",
    "\n",
    "In this project, we use RBF kernel, which is defined as follows:\n",
    "\n",
    "$$K(x_i,x_j)=e^{-\\frac{||x_i - x_j||_{2}^2}{\\sigma^2}}$$\n",
    "\n",
    "It is observed that training of LS-SVR requires the two hyper-parameters, one is the regularization parameter $\\gamma$ and another is the RBF kernel parameter $\\sigma^2$, to be apropriately selected, as these two hyper-parameters can significantly affect the prediction performance of LS-SVR given a training set $\\{(x_i,y_i)\\}_{i=1}^n$.\n",
    "\n"
   ]
  },
  {
   "cell_type": "markdown",
   "metadata": {},
   "source": [
    "## 2.1.1 Tuning the hyper-parameters\n",
    "\n",
    "There are many optimization methods that can be used to tune these two hyper-parameters (e.g., genetic algorithm, particle swarm algorithm, simulated annealing). In this project, we use an exhaustive serach optimization algorithm, called grid search, to tune these two hyper-parameters. We use this global optimization algorithm rather than others aforementioned is because other global optimization algorithms typically include a stochastic process and are sensitive to the initial values. On the contrary, grid search algorithm can guarantee that the optimum hyper-parameters can be achieved as long as the parameter space is apropriately defined. The parameter space we set is $\\{e^{-10:2:10}\\}$ for these two hyper-parameters.\n",
    "\n",
    "After the parameter space is defined, the next step is to creat a cost function that is related to the prediction performance of the LS-SVR. The cost function we use is mean squared error (MSE) obtained based on 10-fold cross validation, such that the optimum LS-SVR will not be overfitting. Given the training set $\\{(x_i,y_i)\\}_{i=1}^n$, the detailed hyper-parameters tuning procedure using grid search approach is summarized below:\n",
    "\n",
    "1. Set parameter space $\\Theta$ for regularization and RBF kernel parameters\n",
    "\n",
    "2. For each pair of $\\{(\\gamma,\\sigma^2)_j\\}_{j=1}^{length(\\Theta)}$, obtain MSE by LS-SVR procedure based on the 10-fold cross validation\n",
    "\n",
    "3. Seclect the optimum pair $(\\gamma,\\sigma^2)_o$ that make the MSE minimum."
   ]
  },
  {
   "cell_type": "markdown",
   "metadata": {},
   "source": [
    "## 2.2 Theory of Ridge Regression"
   ]
  },
  {
   "cell_type": "markdown",
   "metadata": {},
   "source": [
    "The ridge regression is a well-known approach and is an extension of ordinary least squares method by adding a regularization parameter $\\lambda$ to penalize the regression coefficients for avoiding the overfitting. The detailed formulation of ridge regression can be easily found online. Thus, here we briefly summarize the mathmatical equations necessary for code development.\n",
    "\n",
    "Given the training set $\\{(x_i,y_i)\\}_{i=1}^n$, where $x_i \\in R^{p}$ and $y_i \\in R$, the objective of ridge regression is to find regression coefficients $\\beta \\in R^{p+1}$ that minimize the following objective function\n",
    "\n",
    "\\begin{align*}\n",
    "min J(\\beta) = \\sum_{i=1}^ne_{i}^2 + \\lambda \\sum_{j=0}^p\\beta_{j}^2                    \n",
    "\\end{align*}  \n",
    "\n",
    "subject to:\n",
    "\n",
    "$$y_i = \\sum_{j=0}^p\\beta_jx_{ij} + e_i, i = 1,...,n$$\n",
    "\n",
    "where $x_{i0} = 1$, $\\lambda$ is a regularization parameter.\n",
    "\n",
    "The regression coefficient $\\beta$ can be obtained using the following equation\n",
    "\n",
    "$$\\beta = (X^TX + \\lambda I)^{-1}X^Ty$$\n",
    "\n",
    "where $X \\in R^{n\\times(p+1)}$, $I \\in R^{(p+1)\\times(p+1)}$ is identity matrix, and $y \\in R^n$."
   ]
  },
  {
   "cell_type": "markdown",
   "metadata": {},
   "source": [
    "## 3. Development of R Code for Implementation of LS-SVR and Ridge Regression"
   ]
  },
  {
   "cell_type": "markdown",
   "metadata": {},
   "source": [
    "## 3.1 Development of R code for Implementation of LS-SVR"
   ]
  },
  {
   "cell_type": "markdown",
   "metadata": {},
   "source": [
    "When implementing the LS-SVR model using R programming language, five functions, called $kernelmatrix$, $trainlssvr$, $kcrossvalidation$,$tunelssvr$, and $predictlssvr$ are developed. Each of the five functions is explained in detail to let the readers easily understand how they are coded. The detailed information is presented as follows. "
   ]
  },
  {
   "cell_type": "markdown",
   "metadata": {},
   "source": [
    "## 3.1.1 Development of R code for Implementation of $kernelmatrix$"
   ]
  },
  {
   "cell_type": "markdown",
   "metadata": {},
   "source": [
    "The RBF kernel is calculated using the following equation:\n",
    "\n",
    "$$K(x_i,x_j)=e^{-\\frac{||x_i - x_j||_{2}^2}{\\sigma^2}}$$\n",
    "\n",
    "The kernel matrix can be written as the following:\n",
    "\n",
    "\\begin{equation}\n",
    "\\left[\n",
    "\\begin{array}{cccc}\n",
    "K(x_1,x_1) & \\cdots & K(x_1,x_n)\\\\\n",
    "\\vdots & \\ddots &\\vdots\\\\\n",
    "K(x_n,x_1) & \\cdots & K(x_n,x_n)\n",
    "\\end{array}\n",
    "\\right]\n",
    "=\n",
    "K_{nxn}(x_i,x_j); i,j=1,...,n\n",
    "\\end{equation}\n",
    "\n",
    "To implement the RBF kernel matrix in computer, the first step is to make sure what is the entry in the kernel matrix. According to the RBF kernel equation, the components in the RBF kernel can be decomposed as two parts, one is for $||x_i - x_j||_{2}^2$ and another is for RBF kernel parameter $\\sigma^2$. As the RBF kernel parameter $\\sigma^2$ keeps the same value across all the entries in the RBF kernel matrix, it is more straightforward to first finish the former part and then finish the latter part. \n",
    "\n",
    "The most easy way to implement the RBF kernel is to use for loops. However, in class we learned that this process will be computational expensive. Thus, in this project, we directly use the matrix operation instead of using for loops. The detailed procedure is given as follows:\n",
    "\n",
    "Given a dataset $\\{(x_i,y_i)\\}_{i=1}^n$, where $x_i \\in R^p$ and $y_i \\in R$, the matrix of the predictor variable in the dataset can be expressed as follows:\n",
    "\n",
    "\\begin{equation}\n",
    "\\left[\n",
    "\\begin{array}{cccc}\n",
    "x_{11} & \\cdots & x_{1p}\\\\\n",
    "\\vdots & \\ddots &\\vdots\\\\\n",
    "x_{n1} & \\cdots & x_{np}\n",
    "\\end{array}\n",
    "\\right]\n",
    "=\n",
    "\\left[\n",
    "\\begin{array}{cccc}\n",
    "x_1\\\\\n",
    "\\vdots\\\\\n",
    "x_n\n",
    "\\end{array}\n",
    "\\right]\n",
    "= X\n",
    "\\end{equation}\n",
    "\n",
    "where $X \\in R^{n \\times p}$ is the matrix.\n",
    "\n",
    "As $||x_i - x_j||_{2}^2 = x_i^2 + x_j^2 - 2x_ix_j$, the former in the RBF kernel matrix can be written as follows:\n",
    "\n",
    "\\begin{equation}\n",
    "\\left[\n",
    "\\begin{array}{cccc}\n",
    "x_1^2 + x_1^2 - 2x_1x_1 & \\cdots & x_1^2 + x_n^2 - 2x_1x_n\\\\\n",
    "\\vdots & \\ddots &\\vdots\\\\\n",
    "x_n^2 + x_1^2 - 2x_nx_1 & \\cdots & x_n^2 + x_n^2 - 2x_nx_n\n",
    "\\end{array}\n",
    "\\right]\n",
    "=\n",
    "\\left[\n",
    "\\begin{array}{cccc}\n",
    "x_1^2 & \\cdots & x_1^2\\\\\n",
    "\\vdots & \\ddots &\\vdots\\\\\n",
    "x_n^2 & \\cdots & x_n^2\n",
    "\\end{array}\n",
    "\\right]\n",
    "+\n",
    "\\left[\n",
    "\\begin{array}{cccc}\n",
    "x_1^2 & \\cdots & x_n^2\\\\\n",
    "\\vdots & \\ddots &\\vdots\\\\\n",
    "x_1^2 & \\cdots & x_n^2\n",
    "\\end{array}\n",
    "\\right]\n",
    "-\n",
    "\\left[\n",
    "\\begin{array}{cccc}\n",
    "2x_1x_1 & \\cdots & 2x_1x_n\\\\\n",
    "\\vdots & \\ddots &\\vdots\\\\\n",
    "2x_nx_1 & \\cdots & 2x_nx_n\n",
    "\\end{array}\n",
    "\\right]\n",
    "\\end{equation}\n",
    "\n",
    "As $x_i^2 = \\sum_{t=1}^px_{it}^2$, thus the matrix equations above can be expressed in the computer using R code command rowSums() as follows\n",
    "\n",
    "\\begin{equation}\n",
    "\\left[\n",
    "\\begin{array}{cccc}\n",
    "x_1^2 & \\cdots & x_1^2\\\\\n",
    "\\vdots & \\ddots &\\vdots\\\\\n",
    "x_n^2 & \\cdots & x_n^2\n",
    "\\end{array}\n",
    "\\right]\n",
    "=\n",
    "as.matrix(rowSums(X^2)) \\times 1_{1 \\times n}\n",
    "\\end{equation}\n",
    "\n",
    "\\begin{equation}\n",
    "\\left[\n",
    "\\begin{array}{cccc}\n",
    "2x_1x_1 & \\cdots & 2x_1x_n\\\\\n",
    "\\vdots & \\ddots &\\vdots\\\\\n",
    "2x_nx_1 & \\cdots & 2x_nx_n\n",
    "\\end{array}\n",
    "\\right]\n",
    "= 2XX^T\n",
    "\\end{equation}\n",
    "\n",
    "We denote $Xtr = as.matrix(rowSums(X^2)) \\times 1_{1 \\times n}$. So, the matrix operation can be expressed as follows:\n",
    "\n",
    "\\begin{equation}\n",
    "\\left[\n",
    "\\begin{array}{cccc}\n",
    "x_1^2 + x_1^2 - 2x_1x_1 & \\cdots & x_1^2 + x_n^2 - 2x_1x_n\\\\\n",
    "\\vdots & \\ddots &\\vdots\\\\\n",
    "x_n^2 + x_1^2 - 2x_nx_1 & \\cdots & x_n^2 + x_n^2 - 2x_nx_n\n",
    "\\end{array}\n",
    "\\right]\n",
    "=\n",
    "Xtr + Xtr^T - 2XX^T \n",
    "\\end{equation}\n",
    "\n",
    "We denote $K = Xtr + Xtr^T - 2XX^T$, so the kernel matrix in the training procedure can be coded as\n",
    "$$K_{nxn}(x_i,x_j) = e^{-\\frac{K}{\\sigma^2}}$$ \n",
    "\n",
    "The R code named $kernelmatrix$ function to represent the RBF kernel matrix is developed according to the mathmatics presented above. "
   ]
  },
  {
   "cell_type": "code",
   "execution_count": 47,
   "metadata": {},
   "outputs": [],
   "source": [
    "# R code for developing RBF kernelmatrix function\n",
    "kernelmatrix <- function(Xtrain,sigma2,Xtest){\n",
    "    \n",
    "  # This code is to develop a kernel matrix. The current kernel function is mainly\n",
    "  # for radial basis function (RBF) kernel. K(xi,xj) = exp(-sigma2||xi-xj||\n",
    "  Xtrain <- as.matrix(Xtrain) # make sure the input Xtrain is a matrix format\n",
    "    \n",
    "  if(missing(Xtest)){ # In the training procedure, the testing set is no need to input\n",
    "    n <- nrow(Xtrain) # number of observations in the training set (Xtrain,ytrain)\n",
    "    ones <- matrix(rep(1,n),nrow=1,ncol=n) # Construct the 1 vector with 1xn\n",
    "    Xtr <- as.matrix(rowSums(Xtrain^2))%*%ones # Calculate the Xtr\n",
    "    K <- Xtr + t(Xtr) - 2*(Xtrain%*%t(Xtrain)) # Calculate the K\n",
    "    return(exp(-(K / 2*sigma2))) # return the RBF kernel matrix\n",
    "  } else { # In the testing procedure, the testing set needs to be input, see the last equation in section 2.1\n",
    "    \n",
    "    # This procedure is similar to the steps introduced in section 3.1.1\n",
    "    Xtest <- as.matrix(Xtest)\n",
    "    ones_Xt <- matrix(rep(1,nrow(Xtest)),nrow=nrow(Xtest),ncol=1)\n",
    "    ones_Xtr <- matrix(rep(1,nrow(Xtrain)),nrow=1,ncol=nrow(Xtrain))  \n",
    "    Xtr <- ones_Xt%*%t(rowSums(Xtrain^2))\n",
    "    Xt <- as.matrix(rowSums(Xtest^2))%*%ones_Xtr\n",
    "    K <- Xt + Xtr - 2*(Xtest%*%t(Xtrain)) \n",
    "    return(exp(-(K / 2*sigma2)))\n",
    "  }\n",
    "}"
   ]
  },
  {
   "cell_type": "markdown",
   "metadata": {},
   "source": [
    "## 3.1.2 Development of R code for Implementation of $trainlssvr$"
   ]
  },
  {
   "cell_type": "markdown",
   "metadata": {},
   "source": [
    "The $trainlssvr$ function is mainly to solve the linear system presented in the section 2.1 to calculate the $\\alpha_{n\\times1}$ and $b$. The linear system is also presented here for convenience.\n",
    "\n",
    "\\begin{equation}\n",
    "\\left[\n",
    "\\begin{array}{cccc}\n",
    "0 & 1_{1xn}\\\\\n",
    "1_{nx1} & K_{nxn}+\\frac{1}{\\gamma}I_{nxn}\n",
    "\\end{array}\n",
    "\\right]\n",
    "\\left[\n",
    "\\begin{array}{cccc}\n",
    "b\\\\\n",
    "\\alpha_{nx1}\n",
    "\\end{array}\n",
    "\\right]\n",
    "=\n",
    "\\left[\n",
    "\\begin{array}{cccc}\n",
    "0\\\\\n",
    "y_{nx1}\n",
    "\\end{array}\n",
    "\\right ]\n",
    "\\end{equation}\n",
    "\n",
    "It is observed that the coeeficient matrix of the linear system is not a positive definite matrix. So, it will be difficult to directly solve this linear system when the coefficient matrix is close to singular. \n",
    "\n",
    "There are two methods that can effectively solve this problem. One is using the pseudoinverse of the coefficient matrix, and another is using the method proposed by Suykens et al. (2002). In this project, we implement the second one. The detailed procedure is summarized as following.\n",
    "\n",
    "1. rearranging the linear system as the following\n",
    "\n",
    "\\begin{equation}\n",
    "\\left[\n",
    "\\begin{array}{cccc}\n",
    "s & 0_{1xn}\\\\\n",
    "0_{nx1} & H_{nxn}\n",
    "\\end{array}\n",
    "\\right]\n",
    "\\left[\n",
    "\\begin{array}{cccc}\n",
    "b\\\\\n",
    "\\alpha_{nx1}+bH_{nxn}^{-1}1_{nx1}\n",
    "\\end{array}\n",
    "\\right]\n",
    "=\n",
    "\\left[\n",
    "\\begin{array}{cccc}\n",
    "1_{1xn}H_{nxn}^{-1}y_{nx1}\\\\\n",
    "y_{nx1}\n",
    "\\end{array}\n",
    "\\right ]\n",
    "\\end{equation}\n",
    "\n",
    "where $H_{nxn} = K_{nxn}+\\frac{1}{\\gamma}I_{nxn}$ is a positive definite matrix, $s = 1_{1xn}H_{nxn}^{-1}1_{nx1}$. As $H_{nxn}$ is a positive definite matrix, which means $H_{nxn}^{-1}$ always exists and is also a positive definite matrix. This leads to $s = 1_{1xn}H_{nxn}^{-1}1_{nx1}>0$ always hold. Therefore, the coefficient matrix of the rearranged linear system above is also a positive definite matrix, which yields a unique solution to this linear system.\n",
    "\n",
    "2. solve $\\eta_{nx1}$ and $\\nu_{nx1}$ from $H_{nxn}\\eta_{nx1}=1_{nx1}$ and $H_{nxn}\\nu_{nx1}=y_{nx1}$.\n",
    "\n",
    "3. Calculate $s=1_{1xn}\\eta_{nx1}$\n",
    "\n",
    "4. calaculate the $b = eta_{nx1}^{T}y_{nx1}/s$ and $\\alpha_{nx1} = \\nu_{nx1} - b\\eta_{nx1}$.\n",
    "\n",
    "The R code named $trainlssvr$ function to solve the linear sysetem to calculate the $\\alpha$ and $b$ is developed according to the mathmatics presented above. "
   ]
  },
  {
   "cell_type": "code",
   "execution_count": 48,
   "metadata": {},
   "outputs": [],
   "source": [
    "# R code for developing trainlssvr function\n",
    "trainlssvr <- function(Xtrain,ytrain,gamma,sigma2){\n",
    "    Xtrain <- as.matrix(Xtrain)\n",
    "    ytrain <- as.matrix(ytrain)\n",
    "    n <- nrow(Xtrain)\n",
    "    Ktr <- kernelmatrix(Xtrain,sigma2) # Ktr represents the RBF kernel matrix\n",
    "    ones_col <- matrix(rep(1,n),nrow=n,1) # ones_col represents the 1 vector with nx1\n",
    "    ones_row <- matrix(rep(1,n),nrow=1,ncol=n) # ones_row represents the 1 vector with 1xn\n",
    "    Gamma <- (1/gamma)*diag(rep(1,n)) # Gamma represents the diagonal matrix (1/gamma)*I with nxn\n",
    "    H <- Ktr + Gamma # H represents the positive definite matrix K + (1/gamma)*I with nxn\n",
    "    eta <- solve(H,ones_col)\n",
    "    nu <- solve(H,ytrain)\n",
    "    s <- as.numeric(ones_row %*% eta)\n",
    "    b <- as.numeric(t(eta) %*% ytrain / s)\n",
    "    alpha <- nu - b*eta\n",
    "    result <- c(b,alpha)\n",
    "    return(result)\n",
    "}"
   ]
  },
  {
   "cell_type": "markdown",
   "metadata": {},
   "source": [
    "## 3.1.3 Development of R code for Implementation of $predictlssvr$"
   ]
  },
  {
   "cell_type": "markdown",
   "metadata": {},
   "source": [
    "Given the $\\alpha_{n\\times1}$ and $b$, the $predictlssvr$ function is mainly to predict the response variable of testing set based on the equation below.\n",
    "\n",
    "$$ y(x) = \\sum_{i=1}^n \\alpha_iK(x,x_i)+b$$\n"
   ]
  },
  {
   "cell_type": "code",
   "execution_count": 49,
   "metadata": {},
   "outputs": [],
   "source": [
    "# R code for developing predictlssvr function\n",
    "predictlssvr <- function(Xtrain,ytrain,gamma,sigma2,alpha,b,Xtest){\n",
    "  Xtrain <- as.matrix(Xtrain)\n",
    "  ytrain <- as.matrix(ytrain)\n",
    "  Xtest <- as.matrix(Xtest)\n",
    "  alpha <- as.matrix(alpha)\n",
    "  Kt <- kernelmatrix(Xtrain,sigma2,Xtest) # Kt represents the RBF kernel matrix for the testing procedure\n",
    "  coeff <- rbind(b,alpha) # This is to predict multiple points in the testing set using matrix format\n",
    "  one <- rep(1,nrow(Xtest))\n",
    "  Kt <- cbind(one,Kt)\n",
    "  return(Kt%*%coeff)\n",
    "}"
   ]
  },
  {
   "cell_type": "markdown",
   "metadata": {},
   "source": [
    "## 3.1.4 Development of R code for Implementation of $kcrossvalidation$"
   ]
  },
  {
   "cell_type": "markdown",
   "metadata": {},
   "source": [
    "The k fold cross validation is a well-known approach, which is used to avoid the overfitting in the training procedure. The theory of this approach can be found in https://en.wikipedia.org/wiki/Cross-validation_(statistics)."
   ]
  },
  {
   "cell_type": "code",
   "execution_count": 50,
   "metadata": {},
   "outputs": [],
   "source": [
    "# R code for developing k-cross validation used to tune hyper-parameters\n",
    "# Use k-fold cross validation \n",
    "kcrossvalidation <- function(Xtrain,ytrain,gamma,sigma2,k){\n",
    "    Xtrain <- as.matrix(Xtrain)\n",
    "    ytrain <- as.matrix(ytrain)\n",
    "    n <- nrow(Xtrain)\n",
    "    size <- floor(n/k) # calculate the size of data in each of k folds\n",
    "    costs <- matrix(0,nrow=k,ncol=1)\n",
    "    for(i in 1:k){\n",
    "        if(i==1){\n",
    "            train <- (size+1):n\n",
    "            validation <- ((i-1)*size+1):(i*size)\n",
    "        } else if(i==k){\n",
    "            train <- 1:((i-1)*size)\n",
    "            validation <- ((i-1)*size+1):n\n",
    "        } else {\n",
    "            train1 <- 1:((i-1)*size)\n",
    "            train2 <- (i*size+1):n\n",
    "            train <- c(train1,train2)\n",
    "            validation <- ((i-1)*size+1):(i*size)\n",
    "        }\n",
    "        \n",
    "        Xtr <- Xtrain[train,] # predictor variable in the training set in the cross validation procedure\n",
    "        ytr <- ytrain[train,] # response variable in the training set in the cross validation procedure\n",
    "        Xvalid <- Xtrain[validation,] # predictor variable in the validation set in the cross validation procedure\n",
    "        yvalid <- ytrain[validation,] # response variable in the validation set in the cross validation procedure\n",
    "        result <- trainlssvr(Xtr,ytr,gamma,sigma2)\n",
    "        b <- result[1]\n",
    "        alpha <- result[-1]\n",
    "        ypvalid <- predictlssvr(Xtr,ytr,gamma,sigma2,alpha,b,Xvalid)\n",
    "        mse <- mean((yvalid - ypvalid)^2) # Calculate the cost function, here is mean squared error(MSE)\n",
    "        costs[i] <- mse    # record the MSE obtained in each k fold cross validation procedure\n",
    "    }\n",
    "    cost = mean(costs) # calculate the average of the MSE in the whole k fold cross validation procedure\n",
    "    return(cost)\n",
    "}"
   ]
  },
  {
   "cell_type": "markdown",
   "metadata": {},
   "source": [
    "## 3.1.5 Development of R code for Implementation of $tunelssvr$"
   ]
  },
  {
   "cell_type": "markdown",
   "metadata": {},
   "source": [
    "The $tunelssvr$ function is to tune the hyper-parameters, $\\gamma$ and $\\sigma^2$, to obtain the optimal $\\gamma$ and $\\sigma^2$, which makes the LS-SVR optimum. The hyper-parameter optimization procedure can be found in section 2.1.1"
   ]
  },
  {
   "cell_type": "code",
   "execution_count": 51,
   "metadata": {},
   "outputs": [],
   "source": [
    "# R code for developing tunelssvr function using exhaustively search optimiziation algorithm called grid search\n",
    "tunelssvr <- function(Xtrain,ytrain,gamma,sigma2,k){\n",
    "    Xtrain <- as.matrix(Xtrain)\n",
    "    ytrain <- as.matrix(ytrain)\n",
    "    numg <- length(gamma)\n",
    "    nums <- length(sigma2)\n",
    "    result <- matrix(0,nrow=numg*nums,ncol=3) # create a matrix named result to record the results\n",
    "    count <- 0\n",
    "    for(i in 1:numg){\n",
    "        for(j in 1:nums){\n",
    "            count <- count + 1\n",
    "            cost <- kcrossvalidation(Xtrain,ytrain,gamma[i],sigma2[j],k)\n",
    "            result[count,1] <- gamma[i] # the first column records the regularization parameter gamma \n",
    "            result[count,2] <- sigma2[j] # the second column records the RBF kernel parameter sigma2\n",
    "            result[count,3] <- cost # the third column records the estimated cost function (i.e., mse)\n",
    "        }\n",
    "    }\n",
    "    min_cost <- min(result[,3]) # find the minimum MSE\n",
    "    location <- which(result[,3] == min_cost) # find the location of the minimum MSE\n",
    "    opt_gamma <- result[location,1] # extract the optimal gamma\n",
    "    opt_sigma2 <- result[location,2] # extract the optimal sigma2\n",
    "    return(c(opt_gamma,opt_sigma2))\n",
    "}"
   ]
  },
  {
   "cell_type": "markdown",
   "metadata": {},
   "source": [
    "## 3.2 Development of R code for Implementation of Ridge Regression"
   ]
  },
  {
   "cell_type": "markdown",
   "metadata": {},
   "source": [
    "The theory of ridge regression can be found in section 2.2"
   ]
  },
  {
   "cell_type": "code",
   "execution_count": 52,
   "metadata": {},
   "outputs": [],
   "source": [
    "# R code for developing ridge regression function named ridge to calculate the regression coefficient\n",
    "ridge <- function(Xtrain,ytrain,lambda){\n",
    "    Xtrain <- as.matrix(Xtrain)\n",
    "    ytrain <- as.matrix(ytrain)\n",
    "    \n",
    "    # Judge if the 1 vector is already included in the Xtrain\n",
    "    if(any(!Xtrain[,1]==1)){\n",
    "        print('The 1 vector is not included but will include automatically')\n",
    "        ones <- rep(1,nrow(Xtrain))\n",
    "        Xtrain <- cbind(ones,Xtrain)\n",
    "    } \n",
    "    \n",
    "    # Calculate the regression coefficients beta by constructing matrix function Ax = b\n",
    "    I <- diag(rep(1,ncol(Xtrain)))\n",
    "    A <- t(Xtrain)%*%Xtrain + lambda*I\n",
    "    b <- t(Xtrain) %*% ytrain\n",
    "    beta <- solve(A,b)\n",
    "    return(beta)\n",
    "}"
   ]
  },
  {
   "cell_type": "code",
   "execution_count": 53,
   "metadata": {},
   "outputs": [],
   "source": [
    "# R code for developing k-cross validation used to tune regularization parameter lambda of ridge regression\n",
    "# Use k-fold cross validation\n",
    "# This procedure is the same as that introduced in the LS-SVR section but the model (here is the ridge regression)\n",
    "kcrossvalidation_ridge <- function(Xtrain,ytrain,lambda,k){\n",
    "    Xtrain <- as.matrix(Xtrain)\n",
    "    ytrain <- as.matrix(ytrain)\n",
    "    n <- nrow(Xtrain)\n",
    "    size <- floor(nrow(Xtrain)/k) \n",
    "    costs <- matrix(0,nrow=k,ncol=1)\n",
    "    for(i in 1:k){\n",
    "        if(i==1){\n",
    "            train <- (size+1):n\n",
    "            validation <- ((i-1)*size+1):(i*size)\n",
    "        } else if(i==k){\n",
    "            train <- 1:((i-1)*size)\n",
    "            validation <- ((i-1)*size+1):n\n",
    "        } else {\n",
    "            train1 <- 1:((i-1)*size)\n",
    "            train2 <- (i*size+1):n\n",
    "            train <- c(train1,train2)\n",
    "            validation <- ((i-1)*size+1):(i*size)\n",
    "        }\n",
    "        \n",
    "        Xtr <- Xtrain[train,]\n",
    "        ytr <- ytrain[train,]\n",
    "        Xvalid <- Xtrain[validation,]\n",
    "        yvalid <- ytrain[validation,]\n",
    "        beta <- ridge(Xtr,ytr,lambda)\n",
    "        ypvalid <- Xvalid %*% as.matrix(beta)\n",
    "        mse <- mean((yvalid - ypvalid)^2)\n",
    "        costs[i] <- mse    \n",
    "    }\n",
    "    cost = mean(costs)\n",
    "    return(cost)\n",
    "}"
   ]
  },
  {
   "cell_type": "code",
   "execution_count": 54,
   "metadata": {},
   "outputs": [],
   "source": [
    "# R code for developing tuneridge function using exhaustively search optimiziation algorithm called linear search\n",
    "# Note: this procedure is similiar to that introduced in the LS-SVR section but the model and parameter. Here, just\n",
    "#       one hyper-parameter, lambda. So, the linear search is used.\n",
    "tuneridge <- function(Xtrain,ytrain,lambda,k){\n",
    "    Xtrain <- as.matrix(Xtrain)\n",
    "    ytrain <- as.matrix(ytrain)\n",
    "    numl <- length(lambda)\n",
    "    result <- matrix(0,nrow=numl,ncol=2)\n",
    "    for(i in 1:numl){\n",
    "        cost <- kcrossvalidation_ridge(Xtrain,ytrain,lambda[i],k)\n",
    "        result[i,1] <- lambda[i]\n",
    "        result[i,2] <- cost\n",
    "    }\n",
    "    min_cost <- min(result[,2])\n",
    "    location <- which(result[,2] == min_cost)\n",
    "    opt_lambda <- result[location,1]\n",
    "    return(opt_lambda)\n",
    "}"
   ]
  },
  {
   "cell_type": "markdown",
   "metadata": {},
   "source": [
    "## 4. Implementation of LS-SVR and Ridge Regression"
   ]
  },
  {
   "cell_type": "markdown",
   "metadata": {},
   "source": [
    "Given the training set $\\{(x_i,y_i)\\}_{i=1}^n$, the implementation procedure for LS-SVR is first to use $tunelssvr$ function to tune the hyper-parameters such that an optimum pair of $(\\gamma_o,\\sigma_{o}^2)$ can be obtained. Second, given the optimum pair of the two hyper-parameters, the $trainlssvr$ funtion is used to obtain $\\alpha_{nx1}$ and $b$. Finally, given the $\\alpha_{nx1}$ and $b$, the $predictlssvr$ function is used to predict the testing set $\\{x_j\\}_{j=1}^m$.\n",
    "\n",
    "The implementation of ridge regression is much more straightforward. "
   ]
  },
  {
   "cell_type": "markdown",
   "metadata": {},
   "source": [
    "## 4.1 Simulated Dataset without Outliers"
   ]
  },
  {
   "cell_type": "code",
   "execution_count": 55,
   "metadata": {},
   "outputs": [
    {
     "data": {
      "image/png": "[encoded data removed]",
      "text/plain": [
       "plot without title"
      ]
     },
     "metadata": {},
     "output_type": "display_data"
    }
   ],
   "source": [
    "## main program \n",
    "\n",
    "# The simulated dataset is taken from Schaal and Atkeson (1998)\n",
    "x = seq(-2.5,2.5,length.out=200)\n",
    "n = length(x)\n",
    "set.seed(1)\n",
    "y = sin(2*x) + 2*exp(-16*x^2) + rnorm(n,0,.16)\n",
    "ytrue = sin(2*x) + 2*exp(-16*x^2)\n",
    "\n",
    "# Plot the simulated dataset\n",
    "options(repr.plot.width=7.5,repr.plot.height=3.5)\n",
    "par(mar=c(4,4,1,1),mfcol=c(1,2))\n",
    "plot(x,y,ylim = c(-6,6),pch=20,col=\"blue\")"
   ]
  },
  {
   "cell_type": "code",
   "execution_count": 56,
   "metadata": {},
   "outputs": [],
   "source": [
    "# Define the parameter space for LS-SVR and ridge regression implementations\n",
    "range = seq(-10,10,length.out=11)\n",
    "gamma = exp(range)\n",
    "sigma2 = gamma\n",
    "lambda = 2^(range)\n",
    "\n",
    "## Implementation of LS-SVR\n",
    "\n",
    "# Tuning the hyper-parameters using 10-fold cross validation\n",
    "k = 10\n",
    "result1 <- tunelssvr(x,y,gamma,sigma2,k)  # result1 include optimum gamma and sigma2\n",
    "opt_gamma = result1[1]\n",
    "opt_sigma2 = result1[2]\n",
    "\n",
    "# training the data with optimum hyper-parameters to obtain alpha and b\n",
    "result2 <- trainlssvr(x,y,opt_gamma,opt_sigma2) # result2 include alpha and b\n",
    "b = result2[1]\n",
    "alpha = result2[-1]\n",
    "\n",
    "# Predict the response \n",
    "yp <- predictlssvr(x,y,opt_gamma,opt_sigma2,alpha,b,x)\n",
    "\n",
    "## Implementation of ridge regression\n",
    "\n",
    "# here we use 10-order polynomial to approximate the fitting\n",
    "X1 = cbind(rep(1,n),x,x^2,x^3,x^4,x^5,x^6,x^7,x^8,x^9,x^10)\n",
    "opt_lambda1 <- tuneridge(X1,y,lambda,k)\n",
    "beta1 <- ridge(X1,y,opt_lambda1)\n",
    "ypr1 = X1 %*% beta1\n",
    "\n",
    "# here we use the true predictor sin2x and exp(-16x^2) to fitting, assume the true predictor is known\n",
    "X2 = cbind(rep(1,n),sin(2*x),exp(-16*x^2))\n",
    "opt_lambda2 <- tuneridge(X2,y,lambda,k)\n",
    "beta2 <- ridge(X2,y,opt_lambda2)\n",
    "ypr2 = X2 %*% beta2"
   ]
  },
  {
   "cell_type": "code",
   "execution_count": 58,
   "metadata": {},
   "outputs": [
    {
     "data": {
      "image/png": "[encoded data removed]",
      "text/plain": [
       "Plot with title \"True Predictor\""
      ]
     },
     "metadata": {},
     "output_type": "display_data"
    }
   ],
   "source": [
    "## plot the results\n",
    "\n",
    "# set up the plot\n",
    "options(repr.plot.width=7.5,repr.plot.height=3.5)\n",
    "par(mar=c(4,4,1,1),mfcol=c(1,2))\n",
    "\n",
    "# plot LS-SVR, true function, and ridge regression using 10-order polynomial approximation\n",
    "plot(x,y,ylim = c(-6,6),pch=20,col=\"blue\",xlab = \"Predictor Variable\",ylab=\"Response Variable\",\n",
    "     main=\"10-order polynomial\")\n",
    "lines(x,yp,col=\"red\",lwd=2)\n",
    "lines(x,ytrue,col=\"black\",lwd=2)\n",
    "lines(x,ypr1,col=\"green\",lwd=2)\n",
    "legend(\"topright\",legend=c(\"LS-SVR\",\"Real Function\",\"Ridge\"),col=c(\"red\",\"black\",\"green\"),lty=1,cex=0.5,y.intersp=2)\n",
    "\n",
    "# plot LS-SVR, true function, and ridge regression using true predictor \n",
    "plot(x,y,ylim = c(-6,6),pch=20,col=\"blue\",xlab = \"Predictor Variable\",ylab=\"Response Variable\",\n",
    "     main=\"True Predictor\")\n",
    "lines(x,yp,col=\"red\",lwd=2)\n",
    "lines(x,ytrue,col=\"black\",lwd=2)\n",
    "lines(x,ypr2,col=\"green\",lwd=2)\n",
    "legend(\"topright\",legend=c(\"LS-SVR\",\"Real Function\",\"Ridge\"),col=c(\"red\",\"black\",\"green\"),lty=1,cex=0.5,y.intersp=2)"
   ]
  },
  {
   "cell_type": "markdown",
   "metadata": {},
   "source": [
    "## Result Discussion"
   ]
  },
  {
   "cell_type": "markdown",
   "metadata": {},
   "source": [
    "From the results above (left figure) , it is obviously observed that the LS-SVR can perfectly fit the simulated dataset, while the ridge regression with 10-order polynomial performs worse in some regions. This comparison illustrates that the LS-SVR, as advanced statistical learning approach, can discover the true nonlinear relation of the data, while the ridge regression fails to reflect the true nonlinear relation of the data if the good predictors are unknown (e.g., here we use cbind(rep(1,n), $x$, $x^2$, $x^3$, $x^4$, $x^5$, $x^6$, $x^7$, $x^8$, $x^9$, $x^{10}$) as the potential predictors).\n",
    "\n",
    "From the results above (right figure), it observes that if true predictors are known (here we use cbind(rep(1,n), $sin2x$, $e^{-16x^2}$) as the true predictor), the ridge regression can give the best prediction. However, in the real world, the good predictors for physical phenomenon is typically unknown. In this case, machine learning method may be a good way to model the physical phenomenon at the expense of explaination. "
   ]
  },
  {
   "cell_type": "markdown",
   "metadata": {},
   "source": [
    "## 4.2 Simulated Dataset with Outliers"
   ]
  },
  {
   "cell_type": "code",
   "execution_count": 59,
   "metadata": {},
   "outputs": [
    {
     "data": {
      "image/png": "[encoded data removed]",
      "text/plain": [
       "plot without title"
      ]
     },
     "metadata": {},
     "output_type": "display_data"
    }
   ],
   "source": [
    "# Create a dataset contaminated by outliers, the contamination ratio is controlled by ratio\n",
    "# Note: the dataset here is the same as that in section 4.1. The only difference is in that\n",
    "#       some of data points become outliers\n",
    "\n",
    "ratio = 0.1 # contamination ratio\n",
    "numb = sample(n,n*ratio) # randomly select points from the simulated dataset as the outliers\n",
    "set.seed(2)\n",
    "y_c = ytrue[numb] + rnorm(n*ratio,0,2)\n",
    "y[numb] = y_c\n",
    "\n",
    "# Plot the dataset contaminated by outliers\n",
    "options(repr.plot.width=7.5,repr.plot.height=3.5)\n",
    "par(mar=c(4,4,1,1),mfcol=c(1,2))\n",
    "plot(x,y,ylim = c(-6,6),pch=20,col=\"blue\")"
   ]
  },
  {
   "cell_type": "code",
   "execution_count": 60,
   "metadata": {},
   "outputs": [],
   "source": [
    "## Implementation of LS-SVR\n",
    "\n",
    "# Tuning the hyper-parameters using 10-fold cross validation\n",
    "k = 10\n",
    "result1 <- tunelssvr(x,y,gamma,sigma2,k)  # result1 include optimum gamma and sigma2\n",
    "opt_gamma = result1[1]\n",
    "opt_sigma2 = result1[2]\n",
    "\n",
    "# training the data with optimum hyper-parameters to obtain alpha and b\n",
    "result2 <- trainlssvr(x,y,opt_gamma,opt_sigma2) # result2 include alpha and b\n",
    "b = result2[1]\n",
    "alpha = result2[-1]\n",
    "\n",
    "# Predict the response \n",
    "yp <- predictlssvr(x,y,opt_gamma,opt_sigma2,alpha,b,x)\n",
    "\n",
    "## Implementation of ridge regression\n",
    "\n",
    "# here we use 10-order polynomial to approximate the fitting\n",
    "X1 = cbind(rep(1,n),x,x^2,x^3,x^4,x^5,x^6,x^7,x^8,x^9,x^10)\n",
    "opt_lambda1 <- tuneridge(X1,y,lambda,k)\n",
    "beta1 <- ridge(X1,y,opt_lambda1)\n",
    "ypr1 = X1 %*% beta1\n",
    "\n",
    "## here we use the true predictor sin2x and exp(-16x^2) to fitting, assume the true predictor is known\n",
    "X2 = cbind(rep(1,n),sin(2*x),exp(-16*x^2))\n",
    "opt_lambda2 <- tuneridge(X2,y,lambda,k)\n",
    "beta2 <- ridge(X2,y,opt_lambda2)\n",
    "ypr2 = X2 %*% beta2"
   ]
  },
  {
   "cell_type": "code",
   "execution_count": 62,
   "metadata": {},
   "outputs": [
    {
     "data": {
      "image/png": "[encoded data removed]",
      "text/plain": [
       "Plot with title \"True Predictor\""
      ]
     },
     "metadata": {},
     "output_type": "display_data"
    }
   ],
   "source": [
    "## plot the results\n",
    "\n",
    "# set up the plot\n",
    "options(repr.plot.width=7.5,repr.plot.height=3.5)\n",
    "par(mar=c(4,4,1,1),mfcol=c(1,2))\n",
    "\n",
    "# plot LS-SVR, true function, and ridge regression using 10-order polynomial approximation\n",
    "plot(x,y,ylim = c(-6,6),pch=20,col=\"blue\",xlab = \"Predictor Variable\",ylab=\"Response Variable\",\n",
    "     main=\"10-order polynomial\")\n",
    "lines(x,yp,col=\"red\",lwd=2)\n",
    "lines(x,ytrue,col=\"black\",lwd=2)\n",
    "lines(x,ypr1,col=\"green\",lwd=2)\n",
    "legend(\"topright\",legend=c(\"LS-SVR\",\"Real Function\",\"Ridge\"),col=c(\"red\",\"black\",\"green\"),lty=1,cex=0.5,y.intersp=2)\n",
    "\n",
    "# plot LS-SVR, true function, and ridge regression using true predictor \n",
    "plot(x,y,ylim = c(-6,6),pch=20,col=\"blue\",xlab = \"Predictor Variable\",ylab=\"Response Variable\",\n",
    "     main=\"True Predictor\")\n",
    "lines(x,yp,col=\"red\",lwd=2)\n",
    "lines(x,ytrue,col=\"black\",lwd=2)\n",
    "lines(x,ypr2,col=\"green\",lwd=2)\n",
    "legend(\"topright\",legend=c(\"LS-SVR\",\"Real Function\",\"Ridge\"),col=c(\"red\",\"black\",\"green\"),lty=1,cex=0.5,y.intersp=2)"
   ]
  },
  {
   "cell_type": "markdown",
   "metadata": {},
   "source": [
    "## Result Discussion"
   ]
  },
  {
   "cell_type": "markdown",
   "metadata": {},
   "source": [
    "From the results above (left figure), it is obviously observed that both the LS-SVR and ridge regression are nagatively affected by the outliers, leading to worse prediction compared to that without outliers. However, it seems that the levels of negative interferences by outliers for LS-SVR is less than that for ridge regression. In this way, the LS-SVR performs more robust than ridge regression.\n",
    "\n",
    "One of the interesting results is that the right figure illustrates that if the good predictors are used for ridge regression, the negative affect by outliers for ridge regression is less than that for LS-SVR. In this situation, the ridge regression performs more robust than LS-SVR."
   ]
  },
  {
   "cell_type": "markdown",
   "metadata": {},
   "source": [
    "## 5. Theory of Weighted LS-SVR and Ridge Regression"
   ]
  },
  {
   "cell_type": "markdown",
   "metadata": {},
   "source": [
    "From the numerical results shown above, it observes that both LS-SVR and ridge regression (the good predictors are unknown) are sensitive to the outliers. In order to overcome this problem, the weighted versions of LS-SVR and ridge regression are developed. The detailed theory about them are presented below."
   ]
  },
  {
   "cell_type": "markdown",
   "metadata": {},
   "source": [
    "## 5.1 Theory of Weighted LS-SVR\n",
    "\n",
    "The detailed information about the formulation of weighted LS-SVR can be found in Suykens et al. (2002). Here, we briefly summarize the formulation and present the mathmatical equations necessary for the code developement, which can be found as follows.\n",
    "\n",
    "Given the training set $\\{(x_i,y_i)\\}_{i=1}^n$, where $x_i \\in R^{p}$ and $y_i \\in R$, the objective of the weighted LS-SVR is to find $w \\in R^{h}$ and $b$ to minimize the following objective function:\n",
    "\n",
    "\\begin{align*}\n",
    "min J(w,e) = \\frac{1}{2}w^Tw + \\frac{1}{2}\\gamma\\sum_{i=1}^n \\omega_i e_{i}^2                        \n",
    "\\end{align*}           \n",
    "\n",
    "\n",
    "subject to:\n",
    "\n",
    "$$y_i = w^T\\varphi(x_i) + b + e_i, i = 1,...,n$$\n",
    "\n",
    "Where $\\omega_i$ is a weight, and other variables keep the same as those introduced in section 2.1 \n",
    "\n",
    "The Lagrangian function for the equations above can be established as follows:\n",
    "\n",
    "$$L(w,b,e;\\alpha) = J(w,e) - \\sum_{i=1}^n\\alpha_i\\{w^T\\varphi(x_i)+b+e_i-y_i\\}$$\n",
    "\n",
    "The Karush-Kuhn-Tucker(KKT) conditions for optimality are given by:\n",
    "\n",
    "\\begin{align*}\n",
    "&\\frac{\\partial L}{\\partial w}=0 \\rightarrow w = \\sum_{i=1}^n\\alpha_i\\varphi(x_i)\\\\\n",
    "&\\frac{\\partial L}{\\partial b}=0 \\rightarrow \\sum_{i=1}^n\\alpha_i=0\\\\\n",
    "&\\frac{\\partial L}{\\partial e_i}=0 \\rightarrow \\alpha_i = \\gamma \\omega_i e_i, i = 1,...,n\\\\\n",
    "&\\frac{\\partial L}{\\partial \\alpha_i}=0 \\rightarrow w^T\\varphi(x_i)+b+e_i-y_i=0, i = 1,...,n\n",
    "\\end{align*}\n",
    "\n",
    "After elimination of $w,e$, one can obtain the following matrix equation:\n",
    "\n",
    "\\begin{equation}\n",
    "\\left[\n",
    "\\begin{array}{cccc}\n",
    "0 & 1_{1xn}\\\\\n",
    "1_{nx1} & K_{nxn}+\\frac{1}{\\gamma\\omega}I_{nxn}\n",
    "\\end{array}\n",
    "\\right]\n",
    "\\left[\n",
    "\\begin{array}{cccc}\n",
    "b\\\\\n",
    "\\alpha_{nx1}\n",
    "\\end{array}\n",
    "\\right]\n",
    "=\n",
    "\\left[\n",
    "\\begin{array}{cccc}\n",
    "0\\\\\n",
    "y_{nx1}\n",
    "\\end{array}\n",
    "\\right ]\n",
    "\\end{equation}\n",
    "\n",
    "Where $\\omega \\in R^n$ is a weight vector, other variables keep the same as those introduced in section 2.1.\n",
    "\n",
    "The weight function used in this project is a function of residuals estimated by LS-SVR, which is given by:\n",
    "\n",
    "1. if $|e_i/\\hat{s}| \\leq c_1$, $\\omega_i = 1$\n",
    "\n",
    "2. if $c_1\\leq |e_i/\\hat{s}| \\leq c_2$, $\\omega_i = \\frac{c_2-|e_i/\\hat{s}|}{c_2-c_1}$\n",
    "\n",
    "3. otherwise, $\\omega_i = 10^{-4}$\n",
    "\n",
    "where $c_1 = 2.5$, $c_2 = 3$, $\\hat{s}$ is robust parameter taken 1.483 times median absolute deviation of residuals, denoted as $\\hat{s} = 1.483MAD(e)$.\n",
    "\n",
    "The implementation procedure of weighted LS-SVR is summarized as follows:\n",
    "\n",
    "1. Compute the residuals $e_i = \\frac{\\alpha_i}{\\gamma}$.\n",
    "\n",
    "2. Compute the $\\hat{s}$.\n",
    "\n",
    "3. Determine the weight $\\omega_i$ based on $e_i$ and $\\hat{s}$.\n",
    "\n",
    "4. Solve the linear system of weighted LS-SVR to compute the new $\\alpha$ and $b$.\n",
    "\n",
    "5. Use the new $\\alpha$ and $b$ to make predictions."
   ]
  },
  {
   "cell_type": "markdown",
   "metadata": {},
   "source": [
    "## 5.2 Theory of Weighted Ridge Regression\n",
    "\n",
    "\n",
    "The weighted ridge regression is similar to weighted ordinary least squares method by adding a regularization parameter $\\lambda$ to penalize the regression coefficients for avoiding the overfitting. The detailed formulation of weighted ridge regression can be easily found online. Thus, here we briefly summarize the mathmatical equations necessary for code development.\n",
    "\n",
    "Given the training set $\\{(x_i,y_i)\\}_{i=1}^n$, where $x_i \\in R^{p}$ and $y_i \\in R$, the objective of ridge regression is to find regression coefficients $\\beta \\in R^{p+1}$ that minimize the following objective function\n",
    "\n",
    "\\begin{align*}\n",
    "min J(\\beta) = \\sum_{i=1}^n \\omega_ie_{i}^2 + \\lambda \\sum_{j=0}^p\\beta_{j}^2                    \n",
    "\\end{align*}  \n",
    "\n",
    "subject to:\n",
    "\n",
    "$$y_i = \\sum_{j=0}^p\\beta_jx_{ij} + e_i, i = 1,...,n$$\n",
    "\n",
    "where $x_{i0} = 1$, $\\lambda$ is a regularization parameter.\n",
    "\n",
    "The regression coefficient $\\beta$ can be obtained using the following equation\n",
    "\n",
    "$$\\beta = (X^T WX + \\lambda I)^{-1}X^TWy$$\n",
    "\n",
    "where $W$ is a diagnal matrix consisting of $\\{\\omega_i\\}_{i=1}^n$."
   ]
  },
  {
   "cell_type": "markdown",
   "metadata": {},
   "source": [
    "## 6. Development of R Code for Implementation of Weighted LS-SVR and Ridge Regression"
   ]
  },
  {
   "cell_type": "markdown",
   "metadata": {},
   "source": [
    "## 6.1 R Code for Weighted LS-SVR\n",
    "\n",
    "From the theory of weighted LS-SVR introduced in section 5.1, the only difference from LS-SVR is about the weight $\\omega$, robust parameter $\\hat{s}$, and new $\\alpha$ and $b$. Two extra new function called $weightfun$ and $trainwlssvr$ are developed for computing the weight $\\omega$, new $\\alpha$ and $b$. The function $trainwlssvr$ is similar to $trainlssvr$ except there is extra variable, weight, is added and the expression of Gamma is modified. The detailed information is commented in the code below. "
   ]
  },
  {
   "cell_type": "code",
   "execution_count": 63,
   "metadata": {},
   "outputs": [],
   "source": [
    "# R code for developing the weight function\n",
    "weightfun <- function(residuals,s_hat){\n",
    "    # Calculate the weights\n",
    "    n <- length(residuals)\n",
    "    weight = matrix(0,nrow=n,ncol=1)\n",
    "    for(iw in 1:n){\n",
    "        if(abs(residuals[iw]/s_hat)<=2.5){\n",
    "            weight[iw] = 1\n",
    "        } else if(abs(residuals[iw]/s_hat>=2.5 && abs(residuals[iw]/s_hat)<=3)){\n",
    "            weight[iw] = (3 - abs(residuals[iw]/s_hat)) / (3 - 2.5)\n",
    "        } else {\n",
    "            weight[iw] = 0.0001\n",
    "        }\n",
    "    }\n",
    "    return(weight)\n",
    "}"
   ]
  },
  {
   "cell_type": "code",
   "execution_count": 64,
   "metadata": {},
   "outputs": [],
   "source": [
    "# R code for developing the weighted LS-SVR\n",
    "trainwlssvr <- function(Xtrain,ytrain,gamma,sigma2,weight){\n",
    "    Xtrain <- as.matrix(Xtrain)\n",
    "    ytrain <- as.matrix(ytrain)\n",
    "    weight <- as.vector(weight) # weight variable \n",
    "    n <- nrow(Xtrain)\n",
    "    Ktr <- kernelmatrix(Xtrain,sigma2)\n",
    "    ones_col <- matrix(rep(1,n),nrow=n,1)\n",
    "    ones_row <- matrix(rep(1,n),nrow=1,ncol=n)\n",
    "    Gamma <- (1/gamma)*diag(1/weight) # Gamma is changed to incorporate the weight\n",
    "    H <- Ktr + Gamma\n",
    "    eta <- solve(H,ones_col)\n",
    "    nu <- solve(H,ytrain)\n",
    "    s <- as.numeric(ones_row %*% eta)\n",
    "    b <- as.numeric(t(eta) %*% ytrain / s)\n",
    "    alpha <- nu - b*eta\n",
    "    result <- c(b,alpha)\n",
    "    return(result)\n",
    "}\n"
   ]
  },
  {
   "cell_type": "markdown",
   "metadata": {},
   "source": [
    "## 6.2 R Code for Weighted Ridge Regression\n",
    "\n",
    "The weight function used is the same as those in weighted LS-SVR. An extra function named $wridge$ is developed to calculate the new regression coefficient."
   ]
  },
  {
   "cell_type": "code",
   "execution_count": 65,
   "metadata": {},
   "outputs": [],
   "source": [
    "# R code for developing weighted ridge regression function named wridge to calculate the new regression coefficient\n",
    "wridge <- function(Xtrain,ytrain,lambda,weight){\n",
    "    Xtrain <- as.matrix(Xtrain)\n",
    "    ytrain <- as.matrix(ytrain)\n",
    "    weight <- as.vector(weight)\n",
    "    \n",
    "    # Judge if the 1 vector is already included in the Xtrain\n",
    "    if(any(!Xtrain[,1]==1)){\n",
    "        print('The 1 vector is not included but will include automatically')\n",
    "        ones <- rep(1,nrow(Xtrain))\n",
    "        Xtrain <- cbind(ones,Xtrain)\n",
    "    } \n",
    "    \n",
    "    # Calculate the regression coefficients beta by constructing matrix function Ax = b\n",
    "    I <- diag(rep(1,ncol(Xtrain)))\n",
    "    W <- diag(weight)\n",
    "    A <- t(Xtrain) %*% W %*% Xtrain + lambda*I\n",
    "    b <- t(Xtrain) %*% W %*% ytrain\n",
    "    beta <- solve(A,b)\n",
    "    return(beta)\n",
    "}"
   ]
  },
  {
   "cell_type": "code",
   "execution_count": 45,
   "metadata": {},
   "outputs": [],
   "source": [
    "## Implementation of weighted LS-SVR\n",
    "\n",
    "# Calculate the residuals and robust parameter s_hat\n",
    "residuals = alpha / opt_gamma\n",
    "s_hat = 1.483*mad(residuals)\n",
    "\n",
    "# Calculate the weights\n",
    "w <- weightfun(residuals,s_hat)\n",
    "\n",
    "# Calculate the new alpha and b\n",
    "result3 <- trainwlssvr(x,y,opt_gamma,opt_sigma2,w)\n",
    "b = result3[1]\n",
    "alpha = result3[-1]\n",
    "\n",
    "# Predict the response \n",
    "ypr <- predictlssvr(x,y,opt_gamma,opt_sigma2,alpha,b,x)\n",
    "\n",
    "## Implementation of weighted ridge regression\n",
    "\n",
    "# Calculate the residuals and robust parameter for ridge regression\n",
    "residuals_r = y - ypr1\n",
    "s_hat_r = 1.483*mad(residuals_r)\n",
    "\n",
    "# Calculate the weight for ridge regression\n",
    "w_r <- weightfun(residuals_r,s_hat_r)\n",
    "\n",
    "# Calculate the regression coefficient based on the weighted ridge regression\n",
    "beta_r <- wridge(X1,y,opt_lambda1,w_r)\n",
    "ypr1_r =  X1 %*% beta_r"
   ]
  },
  {
   "cell_type": "code",
   "execution_count": 46,
   "metadata": {
    "scrolled": false
   },
   "outputs": [
    {
     "data": {
      "image/png": "[encoded data removed]",
      "text/plain": [
       "plot without title"
      ]
     },
     "metadata": {},
     "output_type": "display_data"
    }
   ],
   "source": [
    "# plot the results\n",
    "options(repr.plot.width=7.5,repr.plot.height=3.5)\n",
    "par(mar=c(4,4,1,1),mfcol=c(1,2))\n",
    "plot(x,y,ylim = c(-6,6),pch=20,col=\"blue\",xlab=\"Predictor Variable\",ylab=\"Response Variable\")\n",
    "lines(x,ypr,col=\"green\",lwd=2)\n",
    "lines(x,yp,col=\"red\",lwd=2)\n",
    "lines(x,ytrue,col=\"black\",lwd=2)\n",
    "legend(\"topright\",legend=c(\"WLS-SVR\",\"LS-SVR\",\"Real Function\"),col=c(\"green\",\"red\",\"black\"),\n",
    "       lty=1,cex=0.5,y.intersp=2)\n",
    "\n",
    "plot(x,y,ylim = c(-6,6),pch=20,col=\"blue\",xlab=\"Predictor Variable\",ylab=\"Response Variable\")\n",
    "lines(x,ypr1_r,col=\"green\",lwd=2)\n",
    "lines(x,ypr1,col=\"red\",lwd=2)\n",
    "lines(x,ytrue,col=\"black\",lwd=2)\n",
    "legend(\"topright\",legend=c(\"Weighted Ridge regression\",\"Ridge Regression\",\"Real Function\"),\n",
    "       col=c(\"green\",\"red\",\"black\"),lty=1,cex=0.5,y.intersp=2)"
   ]
  },
  {
   "cell_type": "markdown",
   "metadata": {},
   "source": [
    "## Result Discussion\n",
    "\n",
    "From the results above (left figure), it is obviously observed that the weighted LS-SVR (WLS-SVR) (green line) improves the fitting of LS-SVR (red line) when the dataset is contaminated by the outliers. Specifically, the improvement done by WLS-SVR is achieved across all the regions contaminated by outliers. \n",
    "\n",
    "For the weighted ridge regression (right figure), the improvement done by weighted ridge regression is not obvious compared to the result obtained by ridge regression. Specifically, the relatively obvious improvement is located at one end, while other regions contaminated by outliers are not improved."
   ]
  },
  {
   "cell_type": "markdown",
   "metadata": {},
   "source": [
    "## 7. Conclusions\n",
    "\n",
    "From this comparision studies, the following conclusions are made to answer the questions we have in the motivation section.\n",
    "\n",
    "1. When the true predictors are unknown, the LS-SVR is an effective tool capable of modeling the nonlinear behavior of physical phenomenon at the expense of explaination. On the contrary, the ridge regression can explain the fitted model but typically gives poor prediction. \n",
    "\n",
    "2. When the true predicthors are known, the ridge regression performs even better than LS-SVR (note: the true predictors are not used for machine learning). However, the true predictors for some physical phenomenon are always unknown. Almost all of the disciplinaries aims to explore what are the true predictors affecting some physical phenomenon. In this situation, machine learning methods might be a potential way to assist people to understand how some physical phenonmenon happens in the future.\n",
    "\n",
    "3. The ridge regression is more vulnerable to outliers than LS-SVR when the true predictors are unknown. However, if the true predictors are known, the ridge regression is more robust than LS-SVR.\n",
    "\n",
    "4. Weighted least squares methods can improve the fitting of both LS-SVR and ridge regression when the dataset is containminated by outliers. However, compared to weighted LS-SVR, the improvement for weighted ridge regression is not significant. "
   ]
  },
  {
   "attachments": {},
   "cell_type": "markdown",
   "metadata": {},
   "source": [
    "## 8. References\n",
    "\n",
    "1. Suykens, J. A., Van Gestel, T., & De Brabanter, J. (2002). Least Squares Support Vector Machines. World Scientific.\n",
    "\n",
    "2. Schaal, S., & Atkeson, C. G. (1998). Constructive incremental learning from only local information. Neural computation, 10(8), 2047-2084.\n",
    "\n",
    "3. Suykens, J. A., De Brabanter, J., Lukas, L., & Vandewalle, J. (2002). Weighted least squares support vector machines: robustness and sparse approximation. Neurocomputing, 48(1-4), 85-105."
   ]
  },
  {
   "cell_type": "code",
   "execution_count": null,
   "metadata": {},
   "outputs": [],
   "source": []
  }
 ],
 "metadata": {
  "kernelspec": {
   "display_name": "R",
   "language": "R",
   "name": "ir"
  },
  "language_info": {
   "codemirror_mode": "r",
   "file_extension": ".r",
   "mimetype": "text/x-r-source",
   "name": "R",
   "pygments_lexer": "r",
   "version": "3.5.1"
  }
 },
 "nbformat": 4,
 "nbformat_minor": 2
}
